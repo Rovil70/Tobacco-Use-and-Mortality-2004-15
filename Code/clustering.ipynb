{
 "cells": [
  {
   "cell_type": "markdown",
   "id": "d518b7c5",
   "metadata": {},
   "source": [
    "🎯 Goal: Cluster Years based on features like smoking rate, fatalities, prescriptions"
   ]
  },
  {
   "cell_type": "markdown",
   "id": "8f2a6ef3",
   "metadata": {},
   "source": [
    "Load Data"
   ]
  },
  {
   "cell_type": "code",
   "execution_count": 23,
   "id": "afcc5625",
   "metadata": {},
   "outputs": [
    {
     "name": "stdout",
     "output_type": "stream",
     "text": [
      "smoking_rate                                             0\n",
      "total_admissions                                         0\n",
      "total_prescriptions                                      0\n",
      "Tobacco Price Index                                      0\n",
      "Retail Prices Index                                      0\n",
      "Tobacco Price Index Relative to Retail Price Index       0\n",
      "Real Households' Disposable Income                       0\n",
      "Affordability of Tobacco Index                           0\n",
      "Household Expenditure on Tobacco                         0\n",
      "Household Expenditure Total                              0\n",
      "Expenditure on Tobacco as a Percentage of Expenditure    0\n",
      "smoking_rate_change                                      1\n",
      "prescription_rate                                        0\n",
      "fatality_ratio                                           0\n",
      "dtype: int64\n"
     ]
    }
   ],
   "source": [
    "import pandas as pd\n",
    "\n",
    "df = pd.read_csv(r\"D:\\Unified Mentor Intership\\Data Science projects\\Tobacco Use and Mortality, 2004-2015\\Merged_features\\merged_features.csv\")\n",
    "X = df.drop(columns=[\"Year\", \"total_fatalities\"])  # Remove ID/target columns\n",
    "\n",
    "# Check missing values\n",
    "print(X.isnull().sum())\n"
   ]
  },
  {
   "cell_type": "code",
   "execution_count": 24,
   "id": "4d26011d",
   "metadata": {},
   "outputs": [],
   "source": [
    "X_clean = X.dropna()\n"
   ]
  },
  {
   "cell_type": "code",
   "execution_count": 25,
   "id": "a1c6e80c",
   "metadata": {},
   "outputs": [],
   "source": [
    "from sklearn.impute import SimpleImputer\n",
    "\n",
    "imputer = SimpleImputer(strategy='mean')  # or 'median'\n",
    "X_clean = pd.DataFrame(imputer.fit_transform(X), columns=X.columns)\n"
   ]
  },
  {
   "cell_type": "markdown",
   "id": "39a8c6a7",
   "metadata": {},
   "source": [
    " Scale the Data"
   ]
  },
  {
   "cell_type": "code",
   "execution_count": 26,
   "id": "eaff366c",
   "metadata": {},
   "outputs": [],
   "source": [
    "from sklearn.preprocessing import StandardScaler\n",
    "\n",
    "scaler = StandardScaler()\n",
    "X_scaled = scaler.fit_transform(X_clean)\n"
   ]
  },
  {
   "cell_type": "markdown",
   "id": "f0454855",
   "metadata": {},
   "source": [
    "KMeans Clustering"
   ]
  },
  {
   "cell_type": "code",
   "execution_count": 27,
   "id": "6aac9bc2",
   "metadata": {},
   "outputs": [
    {
     "name": "stderr",
     "output_type": "stream",
     "text": [
      "c:\\Users\\Lenovo\\anaconda3\\Lib\\site-packages\\sklearn\\cluster\\_kmeans.py:1429: UserWarning: KMeans is known to have a memory leak on Windows with MKL, when there are less chunks than available threads. You can avoid it by setting the environment variable OMP_NUM_THREADS=1.\n",
      "  warnings.warn(\n"
     ]
    }
   ],
   "source": [
    "from sklearn.cluster import KMeans\n",
    "\n",
    "kmeans = KMeans(n_clusters=3, random_state=42)\n",
    "df[\"cluster\"] = kmeans.fit_predict(X_scaled)\n"
   ]
  },
  {
   "cell_type": "markdown",
   "id": "e5b7f586",
   "metadata": {},
   "source": [
    "Visualize with PCA "
   ]
  },
  {
   "cell_type": "code",
   "execution_count": 28,
   "id": "f2ad951a",
   "metadata": {},
   "outputs": [
    {
     "data": {
      "image/png": "[encoded data removed]",
      "text/plain": [
       "<Figure size 800x600 with 1 Axes>"
      ]
     },
     "metadata": {},
     "output_type": "display_data"
    }
   ],
   "source": [
    "from sklearn.decomposition import PCA\n",
    "import seaborn as sns\n",
    "import matplotlib.pyplot as plt\n",
    "\n",
    "pca = PCA(n_components=2)\n",
    "X_pca = pca.fit_transform(X_scaled)\n",
    "\n",
    "df[\"PCA1\"] = X_pca[:, 0]\n",
    "df[\"PCA2\"] = X_pca[:, 1]\n",
    "\n",
    "plt.figure(figsize=(8, 6))\n",
    "sns.scatterplot(data=df, x=\"PCA1\", y=\"PCA2\", hue=\"cluster\", palette=\"Set1\", s=100)\n",
    "plt.title(\"Clustering of Years Based on Tobacco Patterns\")\n",
    "plt.show()\n"
   ]
  }
 ],
 "metadata": {
  "kernelspec": {
   "display_name": "base",
   "language": "python",
   "name": "python3"
  },
  "language_info": {
   "codemirror_mode": {
    "name": "ipython",
    "version": 3
   },
   "file_extension": ".py",
   "mimetype": "text/x-python",
   "name": "python",
   "nbconvert_exporter": "python",
   "pygments_lexer": "ipython3",
   "version": "3.12.7"
  }
 },
 "nbformat": 4,
 "nbformat_minor": 5
}
