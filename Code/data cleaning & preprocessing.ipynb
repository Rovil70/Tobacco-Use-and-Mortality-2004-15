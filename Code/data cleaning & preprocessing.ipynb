{
 "cells": [
  {
   "cell_type": "markdown",
   "id": "dcc4cda6",
   "metadata": {},
   "source": [
    "Import Required Libraries"
   ]
  },
  {
   "cell_type": "code",
   "execution_count": 3,
   "id": "d2b890c8",
   "metadata": {},
   "outputs": [],
   "source": [
    "# Basic libraries\n",
    "import pandas as pd\n",
    "import numpy as np\n",
    "\n",
    "# Visualization (for later phases)\n",
    "import matplotlib.pyplot as plt\n",
    "import seaborn as sns\n",
    "\n",
    "# Settings\n",
    "pd.set_option('display.max_columns', None)\n"
   ]
  },
  {
   "cell_type": "markdown",
   "id": "5c7143fc",
   "metadata": {},
   "source": [
    "Load All 5 Datasets"
   ]
  },
  {
   "cell_type": "code",
   "execution_count": 4,
   "id": "11433925",
   "metadata": {},
   "outputs": [],
   "source": [
    "# Load datasets\n",
    "admissions = pd.read_csv(r\"D:\\Unified Mentor Intership\\Data Science projects\\Tobacco Use and Mortality, 2004-2015\\Datasets\\admissions.csv\")\n",
    "fatalities = pd.read_csv(r\"D:\\Unified Mentor Intership\\Data Science projects\\Tobacco Use and Mortality, 2004-2015\\Datasets\\fatalities.csv\")\n",
    "metrics = pd.read_csv(r\"D:\\Unified Mentor Intership\\Data Science projects\\Tobacco Use and Mortality, 2004-2015\\Datasets\\metrics.csv\")\n",
    "prescriptions = pd.read_csv(r\"D:\\Unified Mentor Intership\\Data Science projects\\Tobacco Use and Mortality, 2004-2015\\Datasets\\prescriptions.csv\")\n",
    "smokers = pd.read_csv(r\"D:\\Unified Mentor Intership\\Data Science projects\\Tobacco Use and Mortality, 2004-2015\\Datasets\\smokers.csv\")\n"
   ]
  },
  {
   "cell_type": "markdown",
   "id": "aabd16aa",
   "metadata": {},
   "source": [
    "Initial Inspection"
   ]
  },
  {
   "cell_type": "code",
   "execution_count": 5,
   "id": "a81a0617",
   "metadata": {},
   "outputs": [
    {
     "name": "stdout",
     "output_type": "stream",
     "text": [
      "(1386, 7)\n",
      "(1166, 7)\n",
      "(31, 9)\n",
      "(9, 9)\n",
      "(56, 9)\n",
      "Year               0\n",
      "ICD10 Code         0\n",
      "ICD10 Diagnosis    0\n",
      "Diagnosis Type     0\n",
      "Metric             0\n",
      "Sex                0\n",
      "Value              0\n",
      "dtype: int64\n",
      "Year               0\n",
      "ICD10 Code         0\n",
      "ICD10 Diagnosis    0\n",
      "Diagnosis Type     0\n",
      "Metric             0\n",
      "Sex                0\n",
      "Value              0\n",
      "dtype: int64\n",
      "Year                                                     0\n",
      "Tobacco Price\\nIndex                                     0\n",
      "Retail Prices\\nIndex                                     0\n",
      "Tobacco Price Index Relative to Retail Price Index       0\n",
      "Real Households' Disposable Income                       0\n",
      "Affordability of Tobacco Index                           0\n",
      "Household Expenditure on Tobacco                         0\n",
      "Household Expenditure Total                              0\n",
      "Expenditure on Tobacco as a Percentage of Expenditure    0\n",
      "dtype: int64\n",
      "Year                                                           0\n",
      "All Pharmacotherapy Prescriptions                              0\n",
      "Nicotine Replacement Therapy (NRT) Prescriptions               0\n",
      "Bupropion (Zyban) Prescriptions                                0\n",
      "Varenicline (Champix) Prescriptions                            0\n",
      "Net Ingredient Cost of All Pharmacotherapies                   0\n",
      "Net Ingredient Cost of Nicotine Replacement Therapies (NRT)    0\n",
      "Net Ingredient Cost of Bupropion (Zyban)                       0\n",
      "Net Ingredient Cost of Varenicline (Champix)                   0\n",
      "dtype: int64\n",
      "Year           0\n",
      "Method         0\n",
      "Sex            0\n",
      "16 and Over    0\n",
      "16-24          0\n",
      "25-34          0\n",
      "35-49          0\n",
      "50-59          0\n",
      "60 and Over    0\n",
      "dtype: int64\n",
      "Year               object\n",
      "ICD10 Code         object\n",
      "ICD10 Diagnosis    object\n",
      "Diagnosis Type     object\n",
      "Metric             object\n",
      "Sex                object\n",
      "Value              object\n",
      "dtype: object\n",
      "Index(['Year', 'Tobacco Price\\nIndex', 'Retail Prices\\nIndex',\n",
      "       'Tobacco Price Index Relative to Retail Price Index',\n",
      "       'Real Households' Disposable Income', 'Affordability of Tobacco Index',\n",
      "       'Household Expenditure on Tobacco', 'Household Expenditure Total',\n",
      "       'Expenditure on Tobacco as a Percentage of Expenditure'],\n",
      "      dtype='object')\n"
     ]
    }
   ],
   "source": [
    "# Quick overview\n",
    "print(admissions.shape)\n",
    "print(fatalities.shape)\n",
    "print(metrics.shape)\n",
    "print(prescriptions.shape)\n",
    "print(smokers.shape)\n",
    "\n",
    "# Check null values\n",
    "print(admissions.isnull().sum())\n",
    "print(fatalities.isnull().sum())\n",
    "print(metrics.isnull().sum())\n",
    "print(prescriptions.isnull().sum())\n",
    "print(smokers.isnull().sum())\n",
    "\n",
    "# Check dtypes\n",
    "print(admissions.dtypes)\n",
    "print(metrics.columns)\n"
   ]
  },
  {
   "cell_type": "markdown",
   "id": "c03384cd",
   "metadata": {},
   "source": [
    "Clean Year Columns (e.g., \"2014/15\" → 2014)"
   ]
  },
  {
   "cell_type": "code",
   "execution_count": 6,
   "id": "d0323649",
   "metadata": {},
   "outputs": [],
   "source": [
    "# Function to extract first year\n",
    "def extract_year(x):\n",
    "    if isinstance(x, str) and \"/\" in x:\n",
    "        return int(x.split(\"/\")[0])\n",
    "    return int(x)\n",
    "\n",
    "# Apply to datasets\n",
    "admissions[\"Year\"] = admissions[\"Year\"].apply(extract_year)\n",
    "fatalities[\"Year\"] = fatalities[\"Year\"].apply(extract_year)\n",
    "prescriptions[\"Year\"] = prescriptions[\"Year\"].apply(extract_year)\n"
   ]
  },
  {
   "cell_type": "markdown",
   "id": "93bb984e",
   "metadata": {},
   "source": [
    "Convert Value Columns to Numeric"
   ]
  },
  {
   "cell_type": "code",
   "execution_count": 7,
   "id": "e49c2179",
   "metadata": {},
   "outputs": [],
   "source": [
    "# Convert Value column to numeric\n",
    "admissions[\"Value\"] = pd.to_numeric(admissions[\"Value\"], errors='coerce')\n",
    "fatalities[\"Value\"] = pd.to_numeric(fatalities[\"Value\"], errors='coerce')\n"
   ]
  },
  {
   "cell_type": "markdown",
   "id": "67a1dd20",
   "metadata": {},
   "source": [
    "Clean Column Names in metrics & prescriptions"
   ]
  },
  {
   "cell_type": "code",
   "execution_count": 8,
   "id": "fa14a6af",
   "metadata": {},
   "outputs": [],
   "source": [
    "# Remove \\n and extra spaces\n",
    "metrics.columns = [col.strip().replace(\"\\n\", \" \") for col in metrics.columns]\n",
    "prescriptions.columns = [col.strip().replace(\"\\n\", \" \") for col in prescriptions.columns]\n"
   ]
  },
  {
   "cell_type": "markdown",
   "id": "38aea0a3",
   "metadata": {},
   "source": [
    "Final Sanity Check"
   ]
  },
  {
   "cell_type": "code",
   "execution_count": 9,
   "id": "e8656391",
   "metadata": {},
   "outputs": [
    {
     "name": "stdout",
     "output_type": "stream",
     "text": [
      "   Year                                         ICD10 Code  \\\n",
      "0  2014                                          All codes   \n",
      "1  2014  C33-C34 & C00-C14 & C15 & C32 & C53 & C67 & C6...   \n",
      "2  2014                                            C00-D48   \n",
      "3  2014                                            J00-J99   \n",
      "4  2014                                            I00-I99   \n",
      "\n",
      "                               ICD10 Diagnosis  \\\n",
      "0                               All admissions   \n",
      "1  All diseases which can be caused by smoking   \n",
      "2                                  All cancers   \n",
      "3                     All respiratory diseases   \n",
      "4                     All circulatory diseases   \n",
      "\n",
      "                                Diagnosis Type                Metric   Sex  \\\n",
      "0                               All admissions  Number of admissions  Male   \n",
      "1  All diseases which can be caused by smoking  Number of admissions  Male   \n",
      "2                                  All cancers  Number of admissions  Male   \n",
      "3                     All respiratory diseases  Number of admissions  Male   \n",
      "4                     All circulatory diseases  Number of admissions  Male   \n",
      "\n",
      "       Value  \n",
      "0  5141482.0  \n",
      "1   931001.0  \n",
      "2   828031.0  \n",
      "3   300450.0  \n",
      "4   522587.0  \n",
      "Index(['Year', 'Tobacco Price Index', 'Retail Prices Index',\n",
      "       'Tobacco Price Index Relative to Retail Price Index',\n",
      "       'Real Households' Disposable Income', 'Affordability of Tobacco Index',\n",
      "       'Household Expenditure on Tobacco', 'Household Expenditure Total',\n",
      "       'Expenditure on Tobacco as a Percentage of Expenditure'],\n",
      "      dtype='object')\n",
      "[2014 2013 2012 2011 2010 2009 2008 2007 2006]\n"
     ]
    }
   ],
   "source": [
    "# View cleaned data samples\n",
    "print(admissions.head())\n",
    "print(metrics.columns)\n",
    "print(prescriptions[\"Year\"].unique())\n"
   ]
  },
  {
   "cell_type": "markdown",
   "id": "db837103",
   "metadata": {},
   "source": [
    "Save Cleaned Files"
   ]
  },
  {
   "cell_type": "code",
   "execution_count": 10,
   "id": "00e5d1c2",
   "metadata": {},
   "outputs": [],
   "source": [
    "# Save cleaned versions\n",
    "admissions.to_csv(\"admissions_cleaned.csv\", index=False)\n",
    "fatalities.to_csv(\"fatalities_cleaned.csv\", index=False)\n",
    "metrics.to_csv(\"metrics_cleaned.csv\", index=False)\n",
    "prescriptions.to_csv(\"prescriptions_cleaned.csv\", index=False)\n",
    "smokers.to_csv(\"smokers_cleaned.csv\", index=False)\n"
   ]
  }
 ],
 "metadata": {
  "kernelspec": {
   "display_name": "base",
   "language": "python",
   "name": "python3"
  },
  "language_info": {
   "codemirror_mode": {
    "name": "ipython",
    "version": 3
   },
   "file_extension": ".py",
   "mimetype": "text/x-python",
   "name": "python",
   "nbconvert_exporter": "python",
   "pygments_lexer": "ipython3",
   "version": "3.12.7"
  }
 },
 "nbformat": 4,
 "nbformat_minor": 5
}
