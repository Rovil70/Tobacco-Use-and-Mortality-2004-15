{
 "cells": [
  {
   "cell_type": "markdown",
   "id": "e9a2d3fc",
   "metadata": {},
   "source": [
    "Load Cleaned Datasets"
   ]
  },
  {
   "cell_type": "code",
   "execution_count": 1,
   "id": "aed3477f",
   "metadata": {},
   "outputs": [],
   "source": [
    "import pandas as pd\n",
    "\n",
    "# Load cleaned datasets\n",
    "admissions = pd.read_csv(r\"D:\\Unified Mentor Intership\\Data Science projects\\Tobacco Use and Mortality, 2004-2015\\Cleaned_Datasets\\admissions_cleaned.csv\")\n",
    "fatalities = pd.read_csv(r\"D:\\Unified Mentor Intership\\Data Science projects\\Tobacco Use and Mortality, 2004-2015\\Cleaned_Datasets\\fatalities_cleaned.csv\")\n",
    "metrics = pd.read_csv(r\"D:\\Unified Mentor Intership\\Data Science projects\\Tobacco Use and Mortality, 2004-2015\\Cleaned_Datasets\\metrics_cleaned.csv\")\n",
    "prescriptions = pd.read_csv(r\"D:\\Unified Mentor Intership\\Data Science projects\\Tobacco Use and Mortality, 2004-2015\\Cleaned_Datasets\\prescriptions_cleaned.csv\")\n",
    "smokers = pd.read_csv(r\"D:\\Unified Mentor Intership\\Data Science projects\\Tobacco Use and Mortality, 2004-2015\\Cleaned_Datasets\\smokers_cleaned.csv\")\n"
   ]
  },
  {
   "cell_type": "markdown",
   "id": "d73ba6c0",
   "metadata": {},
   "source": [
    "Aggregate / Prepare Datasets for Merge\n",
    "We will aggregate values per year (since only smokers may have age-groups).\n",
    "\n"
   ]
  },
  {
   "cell_type": "markdown",
   "id": "a64aef9f",
   "metadata": {},
   "source": [
    "Prepare Smoking Rates (average of Male + Female)"
   ]
  },
  {
   "cell_type": "code",
   "execution_count": 2,
   "id": "4bd71fd4",
   "metadata": {},
   "outputs": [],
   "source": [
    "# Use 16 and Over group\n",
    "smoking = smokers.groupby(\"Year\")[[\"16 and Over\"]].mean().reset_index()\n",
    "smoking.rename(columns={\"16 and Over\": \"smoking_rate\"}, inplace=True)\n"
   ]
  },
  {
   "cell_type": "markdown",
   "id": "09179fe2",
   "metadata": {},
   "source": [
    "Prepare Admissions & Fatalities"
   ]
  },
  {
   "cell_type": "code",
   "execution_count": 3,
   "id": "3ceba7ed",
   "metadata": {},
   "outputs": [],
   "source": [
    "# Total admissions per year\n",
    "admission_rate = admissions.groupby(\"Year\")[\"Value\"].sum().reset_index()\n",
    "admission_rate.rename(columns={\"Value\": \"total_admissions\"}, inplace=True)\n",
    "\n",
    "# Total fatalities per year\n",
    "fatality_rate = fatalities.groupby(\"Year\")[\"Value\"].sum().reset_index()\n",
    "fatality_rate.rename(columns={\"Value\": \"total_fatalities\"}, inplace=True)\n"
   ]
  },
  {
   "cell_type": "markdown",
   "id": "8eadb100",
   "metadata": {},
   "source": [
    "Prepare Prescriptions"
   ]
  },
  {
   "cell_type": "code",
   "execution_count": 4,
   "id": "7dfb4c58",
   "metadata": {},
   "outputs": [],
   "source": [
    "prescription_df = prescriptions[[\"Year\", \"All Pharmacotherapy Prescriptions\"]].copy()\n",
    "prescription_df.rename(columns={\"All Pharmacotherapy Prescriptions\": \"total_prescriptions\"}, inplace=True)\n"
   ]
  },
  {
   "cell_type": "markdown",
   "id": "392cebc8",
   "metadata": {},
   "source": [
    "Merge All DataFrames"
   ]
  },
  {
   "cell_type": "code",
   "execution_count": 5,
   "id": "9d023a7a",
   "metadata": {},
   "outputs": [],
   "source": [
    "# Merge on Year\n",
    "merged_df = smoking.merge(admission_rate, on=\"Year\", how=\"inner\")\n",
    "merged_df = merged_df.merge(fatality_rate, on=\"Year\", how=\"inner\")\n",
    "merged_df = merged_df.merge(prescription_df, on=\"Year\", how=\"inner\")\n",
    "merged_df = merged_df.merge(metrics, on=\"Year\", how=\"left\")\n"
   ]
  },
  {
   "cell_type": "markdown",
   "id": "b81f898a",
   "metadata": {},
   "source": [
    "Feature Engineering"
   ]
  },
  {
   "cell_type": "code",
   "execution_count": 6,
   "id": "6e8e52b0",
   "metadata": {},
   "outputs": [],
   "source": [
    "# Change in smoking rate (year-over-year)\n",
    "merged_df[\"smoking_rate_change\"] = merged_df[\"smoking_rate\"].diff()\n",
    "\n",
    "# Prescription rate per 100k smokers (optional)\n",
    "merged_df[\"prescription_rate\"] = merged_df[\"total_prescriptions\"] / merged_df[\"smoking_rate\"]\n",
    "\n",
    "# Fatality ratio (deaths per smoker percent)\n",
    "merged_df[\"fatality_ratio\"] = merged_df[\"total_fatalities\"] / merged_df[\"smoking_rate\"]\n"
   ]
  },
  {
   "cell_type": "markdown",
   "id": "84e0a65d",
   "metadata": {},
   "source": [
    "Final Check"
   ]
  },
  {
   "cell_type": "code",
   "execution_count": 7,
   "id": "ebad8e89",
   "metadata": {},
   "outputs": [
    {
     "name": "stdout",
     "output_type": "stream",
     "text": [
      "   Year  smoking_rate  total_admissions  total_fatalities  \\\n",
      "0  2006          22.0        16274948.0         1631446.0   \n",
      "1  2007          21.0        16736959.0         1616198.0   \n",
      "2  2008          21.5        21575148.0         1629797.0   \n",
      "3  2009          21.0        18083462.0         1570432.0   \n",
      "4  2010          20.5        18563938.0         1560699.0   \n",
      "\n",
      "   total_prescriptions  Tobacco Price Index  Retail Prices Index  \\\n",
      "0                 2079                713.7                296.4   \n",
      "1                 2475                751.5                309.1   \n",
      "2                 2263                784.7                321.3   \n",
      "3                 2483                815.9                319.7   \n",
      "4                 2564                878.3                334.5   \n",
      "\n",
      "   Tobacco Price Index Relative to Retail Price Index  \\\n",
      "0                                              240.8    \n",
      "1                                              243.1    \n",
      "2                                              244.2    \n",
      "3                                              255.2    \n",
      "4                                              262.6    \n",
      "\n",
      "   Real Households' Disposable Income  Affordability of Tobacco Index  \\\n",
      "0                               192.3                            79.9   \n",
      "1                               195.9                            80.6   \n",
      "2                               192.5                            78.8   \n",
      "3                               195.7                            76.7   \n",
      "4                               195.0                            74.3   \n",
      "\n",
      "   Household Expenditure on Tobacco  Household Expenditure Total  \\\n",
      "0                             15542                       851456   \n",
      "1                             15766                       898478   \n",
      "2                             15879                       928265   \n",
      "3                             16209                       911665   \n",
      "4                             17176                       954781   \n",
      "\n",
      "   Expenditure on Tobacco as a Percentage of Expenditure  smoking_rate_change  \\\n",
      "0                                                1.8                      NaN   \n",
      "1                                                1.8                     -1.0   \n",
      "2                                                1.7                      0.5   \n",
      "3                                                1.8                     -0.5   \n",
      "4                                                1.8                     -0.5   \n",
      "\n",
      "   prescription_rate  fatality_ratio  \n",
      "0          94.500000    74156.636364  \n",
      "1         117.857143    76961.809524  \n",
      "2         105.255814    75804.511628  \n",
      "3         118.238095    74782.476190  \n",
      "4         125.073171    76131.658537  \n"
     ]
    }
   ],
   "source": [
    "print(merged_df.head())\n",
    "merged_df.to_csv(\"merged_features.csv\", index=False)\n"
   ]
  }
 ],
 "metadata": {
  "kernelspec": {
   "display_name": "base",
   "language": "python",
   "name": "python3"
  },
  "language_info": {
   "codemirror_mode": {
    "name": "ipython",
    "version": 3
   },
   "file_extension": ".py",
   "mimetype": "text/x-python",
   "name": "python",
   "nbconvert_exporter": "python",
   "pygments_lexer": "ipython3",
   "version": "3.12.7"
  }
 },
 "nbformat": 4,
 "nbformat_minor": 5
}
